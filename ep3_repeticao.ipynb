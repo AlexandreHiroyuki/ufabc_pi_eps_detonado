{
 "cells": [
  {
   "attachments": {},
   "cell_type": "markdown",
   "metadata": {},
   "source": [
    "# Repetição"
   ]
  },
  {
   "attachments": {},
   "cell_type": "markdown",
   "metadata": {},
   "source": [
    "## EP3_1(função) - Valor da função\n",
    "\n",
    "Considere a seguinte função:\n",
    "\n",
    "![Ilustração da função](assets/EP3_1.png)\n",
    "\n",
    "Python (o arquivo submetido deve ter a extensão .py):\n",
    "```py\n",
    "def obter_valor_funcao(a, b, c):\n",
    "    #codigo da funcao\n",
    "```\n",
    "\n",
    "Formato do caso de teste: esse é o formato dos casos de teste que aparecem ao avaliar a atividade; não inclua impressão de dados no código, essa impressão é feita automaticamente pelo sistema de correção de acordo com o retorno da função submetida.\n",
    "\n",
    "Entrada:\n",
    "- a\n",
    "- b\n",
    "- c\n",
    "\n",
    "Saída:\n",
    "- Valor da função (retorno da função submetida)"
   ]
  },
  {
   "cell_type": "code",
   "execution_count": null,
   "metadata": {},
   "outputs": [],
   "source": [
    "# Função que calcula e retorna um valor de acordo com a fórmula ilustrada no enunciado\n",
    "def obter_valor_funcao(a, b, c):\n",
    "    sum = a # Acumula a somatória\n",
    "    for d in range(1, b+1): # Percorre os valores de 1 até b, replicando o comportamento da somatória\n",
    "        sum += c * d\n",
    "    return sum"
   ]
  },
  {
   "attachments": {},
   "cell_type": "markdown",
   "metadata": {},
   "source": [
    "## EP3_2 - Estatísticas de números\n",
    "\n",
    "Escreva um programa que leia um inteiro n e então leia n números inteiros. Ao final, o programa deve imprimir os seguintes valores sobre a sequência de n valores lidos:\n",
    "\n",
    "- Soma (dos n números)\n",
    "- Média\n",
    "- Mínimo\n",
    "- Máximo\n",
    "\n",
    "Entrada:\n",
    "- Um número inteiro n\n",
    "- n números inteiros\n",
    "\n",
    "Saída:\n",
    "- Soma\n",
    "- Média (imprima com duas casas decimais após a vírgula)\n",
    "- Mínimo\n",
    "- Máximo"
   ]
  },
  {
   "cell_type": "code",
   "execution_count": null,
   "metadata": {},
   "outputs": [],
   "source": [
    "n = int(input()) # Recebe a quantidade de números que serão lidos\n",
    "\n",
    "# Inicializa as variáveis que armazenarão a soma, o maior e o menor valor lido\n",
    "sum = n_min = n_max = int(input())\n",
    "for i in range(0, n-1): # Lê os 'n' valores e atualiza as variáveis\n",
    "    x = int(input())\n",
    "    sum += x # Acumula a soma\n",
    "    n_min = min(n_min, x) # Compara o valor lido com o menor valor atual e atualiza, se necessário\n",
    "    n_max = max(n_max, x) # Compara o valor lido com o maior valor atual e atualiza, se necessário\n",
    "\n",
    "# Imprime os resultados\n",
    "print(sum)\n",
    "print(sum/n)\n",
    "print(n_min)\n",
    "print(n_max)"
   ]
  },
  {
   "attachments": {},
   "cell_type": "markdown",
   "metadata": {},
   "source": [
    "## EP3_3 - Quantidade de conceitos\n",
    "\n",
    "Faça um programa que receba um valor n, leia n notas de alunos e mostre quantos alunos tiveram cada conceito e a média de todos com duas casas decimais.\n",
    "\n",
    "Neste exercício, considere a seguinte a regra para conversão de nota para conceito:\n",
    "```\n",
    ">=9 e <=10: A\n",
    ">=8 e <9: B\n",
    ">=7 e <8: C\n",
    ">=5 e <7: D\n",
    "<5: F\n",
    "```\n",
    "\n",
    "### Exemplo:\n",
    "Entradas:\n",
    "```\n",
    "7\n",
    "0\n",
    "2\n",
    "4\n",
    "9\n",
    "10\n",
    "7\n",
    "8\n",
    "```\n",
    "Saídas (observação: \"Media\" deve ser impresso sem acento):\n",
    "```\n",
    "A: 2\n",
    "B: 1\n",
    "C: 1\n",
    "D: 0\n",
    "F: 3\n",
    "Media: 5.71\n",
    "```"
   ]
  },
  {
   "cell_type": "code",
   "execution_count": null,
   "metadata": {},
   "outputs": [],
   "source": [
    "# Nota: o código utiliza listas, mas podem facilmente ser substituídas por variáveis individuais\n",
    "n = int(input()) # Recebe a quantidade de notas que serão lidas\n",
    "CONVERT = [\"A\", \"B\", \"C\", \"D\", \"F\"]\n",
    "grades = [0, 0, 0, 0, 0]\n",
    "sum = 0\n",
    "\n",
    "for i in range(0, n): # Lê as notas e as classifica, atualizando a lista de contagem\n",
    "    x = float(input())\n",
    "    sum += x\n",
    "    if (x >= 9):\n",
    "        grades[0] += 1\n",
    "    elif (x >= 8):\n",
    "        grades[1] += 1\n",
    "    elif (x >= 7):\n",
    "        grades[2] += 1\n",
    "    elif (x >= 5):\n",
    "        grades[3] += 1\n",
    "    else:\n",
    "        grades[4] += 1\n",
    "\n",
    "# Imprime os resultados\n",
    "for i in range(0, 5):\n",
    "    print(f\"{CONVERT[i]}: {grades[i]}\")\n",
    "print(f\"Media: {(sum / n):.2f}\")"
   ]
  },
  {
   "attachments": {},
   "cell_type": "markdown",
   "metadata": {},
   "source": [
    "## EP3_4 - Ler quantidade indefinida de valores\n",
    "\n",
    "Faça um programa que fique lendo números do usuário até que ele digite 0. Quando isso ocorrer, mostre o valor da média aritmética de todos os números lidos (imprima o valor com duas casas decimais após a vírgula).\n",
    "\n",
    "Entrada:\n",
    "- Uma sequência de números inteiros. A leitura é encerrada quando o usuário digitar 0 (zero).\n",
    "\n",
    "Saída:\n",
    "- Média de todos os valores lidos."
   ]
  },
  {
   "cell_type": "code",
   "execution_count": null,
   "metadata": {},
   "outputs": [],
   "source": [
    "# Inicializa as variáveis que armazenarão a entrada, a soma e o número de valores lidos\n",
    "sum = 0\n",
    "x = 5\n",
    "i = 0\n",
    "\n",
    "while(x != 0): # Lê os valores enquanto o valor lido for diferente de 0\n",
    "    x = int(input()) # Lê o valor\n",
    "    if (x == 0): # Se o valor lido for 0, interrompe o loop\n",
    "        break\n",
    "    sum += x # Acumula a soma\n",
    "    i += 1 # Incrementa o número de valores lidos\n",
    "\n",
    "print(f\"{(sum/i):.2f}\") # Imprime a média"
   ]
  },
  {
   "attachments": {},
   "cell_type": "markdown",
   "metadata": {},
   "source": [
    "## EP3_5 - Triângulo de números\n",
    "\n",
    "Faça um programa que leia um inteiro n e imprima um \"triângulo\" com os números. Por exemplo, para n=8, a saída seria:\n",
    "\n",
    "```\n",
    "1\n",
    "22\n",
    "333\n",
    "4444\n",
    "55555\n",
    "666666\n",
    "7777777\n",
    "88888888\n",
    "```\n",
    "\n",
    "Entrada:\n",
    "- Um número inteiro n.\n",
    "\n",
    "Saída:\n",
    "- Triângulo com os números."
   ]
  },
  {
   "cell_type": "code",
   "execution_count": null,
   "metadata": {},
   "outputs": [],
   "source": [
    "# Recebe o tamanho do triângulo\n",
    "n = int(input())\n",
    "\n",
    "for i in range(1, n+1): # Repete o loop 'n' vezes\n",
    "    for j in range(1, i+1): # Repete o loop 'i' vezes, 'i' é o número da linha atual\n",
    "        print(i, end=\"\")\n",
    "    print(\"\")"
   ]
  },
  {
   "attachments": {},
   "cell_type": "markdown",
   "metadata": {},
   "source": [
    "## EP3_6 - Função com somatório\n",
    "\n",
    "Faça um programa que leia um valor inteiro n e então calcule o valor de f(n), conforme definição a seguir:\n",
    "\n",
    "![Ilustração da definição da função f de n utilizando somatórias](assets/EP3_6.png)\n",
    "\n",
    "Entrada:\n",
    "Valor inteiro n.\n",
    "Saída:\n",
    "\n",
    "Valor de f( n )."
   ]
  },
  {
   "cell_type": "code",
   "execution_count": null,
   "metadata": {},
   "outputs": [],
   "source": [
    "value = int(input()) # Recebe o valor de 'n'\n",
    "\n",
    "def summatory(n): # Define a função que calcula a somatória\n",
    "    sum = 0\n",
    "    for i in range(1, n+1):\n",
    "        for j in range(1, 9):\n",
    "            sum += (i + 1) * j\n",
    "    return sum\n",
    "\n",
    "print(summatory(value)) # Imprime o resultado da somatória"
   ]
  },
  {
   "attachments": {},
   "cell_type": "markdown",
   "metadata": {},
   "source": [
    "## EP3_7 - N primeiros primos\n",
    "\n",
    "Faça um programa que leia um valor inteiro N e então mostre os N primeiros números primos (o primeiro número primo é o 2).\n",
    "\n",
    "Entrada:\n",
    "- Valor inteiro N.\n",
    "\n",
    "Exemplo:\n",
    "```\n",
    "5\n",
    "```\n",
    "\n",
    "Saída:\n",
    "- N primeiros números primos.\n",
    "\n",
    "Exemplo:\n",
    "```\n",
    "2\n",
    "3\n",
    "5\n",
    "7\n",
    "```"
   ]
  },
  {
   "cell_type": "code",
   "execution_count": null,
   "metadata": {},
   "outputs": [],
   "source": [
    "n = int(input()) # Recebe o valor de 'n'\n",
    "\n",
    "print(\"2\")\n",
    "i = 1\n",
    "y = 3\n",
    "while (i < n):\n",
    "    x = 3\n",
    "    while (x < y):\n",
    "        if (y % x) == 0:\n",
    "            break\n",
    "        x += 2\n",
    "    if (x == y):\n",
    "        print(x)\n",
    "        i += 1\n",
    "    y += 2"
   ]
  },
  {
   "attachments": {},
   "cell_type": "markdown",
   "metadata": {},
   "source": [
    "## EP3_8(função) - Valor de PI\n",
    "\n",
    "O valor de Π pode ser calculado pela série de Gregory conforme apresentado a seguir:\n",
    "\n",
    "![Ilustração da série de Gregory](assets\\EP3_8.png)\n",
    "\n",
    "_Formato do caso de teste_: esse é o formato dos casos de teste que aparecem ao avaliar a atividade; não inclua impressão de dados no código, essa impressão é feita automaticamente pelo sistema de correção de acordo com o retorno da função submetida.\n",
    "\n",
    "Entrada:\n",
    "- n\n",
    "\n",
    "Saída:\n",
    "- Valor de Π (retorno da função submetida)"
   ]
  },
  {
   "cell_type": "code",
   "execution_count": null,
   "metadata": {},
   "outputs": [],
   "source": [
    "def calcular_pi(n): # Define a função que calcula o valor de pi\n",
    "    sum = 0\n",
    "    for i in range(0, n): # Repete o loop 'n' vezes\n",
    "        if (i % 2 == 0): # Se o índice for par, soma o valor\n",
    "            sum += 1/(1 + (2*i))\n",
    "        else: # Se o índice for ímpar, subtrai o valor\n",
    "            sum -= 1/(1 + (2*i))\n",
    "    return 4*sum"
   ]
  },
  {
   "attachments": {},
   "cell_type": "markdown",
   "metadata": {},
   "source": [
    "## EP3_9 - Separar dígitos\n",
    "\n",
    "Faça um programa que leia um valor inteiro N e então imprima em linhas separadas seus dígitos na ordem inversa. Por exemplo: O número 9376 seria impresso como:\n",
    "```\n",
    "6\n",
    "7\n",
    "3\n",
    "9\n",
    "```\n",
    "\n",
    "Entrada:\n",
    "- Valor inteiro N.\n",
    "\n",
    "Saída:\n",
    "- Dígitos do número, impressos linha a linha, em ordem inversa"
   ]
  },
  {
   "cell_type": "code",
   "execution_count": null,
   "metadata": {},
   "outputs": [],
   "source": [
    "# Recebe o valor de 'n', transforma em string e inverte\n",
    "value = str(input())[::-1]\n",
    "\n",
    "# Imprime cada caractere da string invertida em linhas separadas\n",
    "for c in value:\n",
    "    print(c)"
   ]
  },
  {
   "attachments": {},
   "cell_type": "markdown",
   "metadata": {},
   "source": [
    "## EP3_10 - Pirâmide\n",
    "\n",
    "Faça um programa que leia um valor inteiro N que representa a quantidade de linhas para impressão de uma pirâmide de números 1. A figura impressa é composta apenas pelos caracteres hífen (-) e o número 1. Por exemplo, uma pirâmide com altura 5 deve ser representada da seguinte forma:\n",
    "\n",
    "```\n",
    "----1----\n",
    "---111---\n",
    "--11111--\n",
    "-1111111-\n",
    "111111111\n",
    "```\n",
    "\n",
    "Entrada:\n",
    "- Quantidade de linhas (altura) da pirâmide\n",
    "\n",
    "Saída:\n",
    "- Pirâmide"
   ]
  },
  {
   "cell_type": "code",
   "execution_count": null,
   "metadata": {},
   "outputs": [],
   "source": [
    "# Recebe a quantidade de linhas e calcula a largura da base\n",
    "height = int(input())\n",
    "width = 1 + (2*(height))\n",
    "\n",
    "for h in range(height): # Repete o loop para cada linha, até a altura máxima\n",
    "    current = 1 + (2*h) # Calcula a largura da linha atual\n",
    "    blank = int((width - current - 1) / 2) # Calcula a quantidade de espaços em branco\n",
    "    # Imprime os caracteres da linha atual\n",
    "    for i in range(blank):\n",
    "        print('-', end='')\n",
    "    for i in range(current):\n",
    "        print('1', end='')\n",
    "    for i in range(blank):\n",
    "        print('-', end='')\n",
    "    print('')"
   ]
  }
 ],
 "metadata": {
  "kernelspec": {
   "display_name": "Python 3",
   "language": "python",
   "name": "python3"
  },
  "language_info": {
   "name": "python",
   "version": "3.9.12"
  },
  "orig_nbformat": 4
 },
 "nbformat": 4,
 "nbformat_minor": 2
}
