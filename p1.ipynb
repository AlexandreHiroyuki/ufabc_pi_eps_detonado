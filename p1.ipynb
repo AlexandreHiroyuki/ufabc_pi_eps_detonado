{
 "cells": [
  {
   "attachments": {},
   "cell_type": "markdown",
   "metadata": {},
   "source": [
    "# Processamento da Informação - Prova 1\n",
    "_Harlen Costa Batagelo - 2023.2_"
   ]
  },
  {
   "attachments": {},
   "cell_type": "markdown",
   "metadata": {},
   "source": [
    "## Questão 1\n",
    "\n",
    "As fases da Lua referem-se à mudança aparente da porção visível iluminada do satélite devido a sua variação da posição em relação à Terra e ao Sol. O ciclo completo, denominado lunação, leva pouco mais de 29 dias para se completar. Nesse período, a lua passa da fase nova, quando a sua porção iluminada visível passa a aumentar gradualmente até que, duas semanas depois ocorre a lua cheia e, cerca de duas semanas seguintes, volta a diminuir e o satélite entra novamente na fase nova.\n",
    "\n",
    "Foi convencionado que, em duas avaliações realizadas em duas noites consecutivas é possível informar em qual fase a lua se encontra:\n",
    "\n",
    "- se a porção visível da lua no momento estiver entre 0% e 2%, é lua nova;\n",
    "- se estiver entre 3% e 96%, é lua crescente;\n",
    "- se estiver entre 97% e 100%, é lua cheia;\n",
    "- se estiver entre 96% e 3% (diminuindo), é lua minguante.\n",
    "\n",
    "Faça uma função lua(m1, m2), onde m1 e m2 são inteiros no intervalo [0,100]. m1 é a medida de porção visível da Lua na primeira noite; m2 é a medida na segunda noite.\n",
    "\n",
    "A função deve imprimir na tela uma das seguinte palavras: Nova, Cheia, Crescente ou Minguante, de acordo com a convenção explicada.\n",
    "\n",
    "Exemplos:\n",
    "```\n",
    "lua(0, 2)\n",
    "Nova\n",
    "\n",
    "lua(2, 3)\n",
    "Crescente\n",
    "\n",
    "lua(99, 97)\n",
    "Cheia\n",
    "\n",
    "lua(97, 94)\n",
    "Minguante\n",
    "```"
   ]
  },
  {
   "cell_type": "code",
   "execution_count": null,
   "metadata": {},
   "outputs": [],
   "source": [
    "def lua(m1, m2):\n",
    "    if ((m1 >= 0 and m1 <= 2) and (m2 >= 0 and m2 <= 2)):\n",
    "        return print(\"Nova\")\n",
    "    elif ((m1 >= 97 and m1 <= 100) and (m2 >= 97 and m2 <= 100)):\n",
    "        return print(\"Cheia\")\n",
    "\n",
    "    if (m1 < m2):\n",
    "        return print(\"Crescente\")\n",
    "    else:\n",
    "        return print(\"Minguante\")"
   ]
  },
  {
   "cell_type": "code",
   "execution_count": null,
   "metadata": {},
   "outputs": [],
   "source": [
    "# Código para testar\n",
    "print(lua(0, 2))\n",
    "print(lua(2, 3))\n",
    "print(lua(99, 97))\n",
    "print(lua(97, 94))"
   ]
  },
  {
   "attachments": {},
   "cell_type": "markdown",
   "metadata": {},
   "source": [
    "## Questão 2\n",
    "\n",
    "Escreva um programa que leia do teclado um número inteiro n e, em seguida, leia n números inteiros positivos (n>0). Ao final, o programa deverá mostrar na tela qual foi o menor número divisível por 3. Se nenhum número for divisível por 3, o programa deve mostrar a mensagem \"Nenhum número é divisível por 3\".\n",
    "\n",
    "Exemplos:\n",
    "```\n",
    "Entre a quantidade de números: 6\n",
    "7\n",
    "2\n",
    "55\n",
    "18\n",
    "9\n",
    "1\n",
    "O menor número divisível por 3 é 9\n",
    "\n",
    "Entre a quantidade de números: 3\n",
    "10\n",
    "5\n",
    "4\n",
    "Nenhum número é divisível por 3\n",
    "```"
   ]
  },
  {
   "cell_type": "code",
   "execution_count": null,
   "metadata": {},
   "outputs": [],
   "source": [
    "# n > 0\n",
    "n = int(input(\"Entre a quantidade de números: \"))\n",
    "\n",
    "min = -1\n",
    "for i in range(n):\n",
    "    x = int(input())\n",
    "    if (x % 3 == 0):\n",
    "        if (x < min or min == -1):\n",
    "            min = x\n",
    "\n",
    "if (min != -1):\n",
    "    print(f\"O menor número divisível por 3 é {min}\")\n",
    "else:\n",
    "    print(\"Nenhum número é divisível por 3\")\n"
   ]
  },
  {
   "attachments": {},
   "cell_type": "markdown",
   "metadata": {},
   "source": [
    "## Questão 3\n",
    "\n",
    "Faça uma função sequencia(n) que recebe um inteiro n e imprime na tela n caracteres compostos de sequências repetidas dos dígitos 4, 3, 2 e 1, nesta ordem. Os caracteres devem ser impressos em uma única linha e separados por um espaço.\n",
    "\n",
    "Exemplo de execução:\n",
    "```\n",
    "sequencia(6)\n",
    "4 3 2 1 4 3\n",
    "\n",
    "sequencia(3)\n",
    "4 3 2\n",
    "\n",
    "sequencia(9)\n",
    "4 3 2 1 4 3 2 1 4\n",
    "```"
   ]
  },
  {
   "cell_type": "code",
   "execution_count": null,
   "metadata": {},
   "outputs": [],
   "source": [
    "def sequencia(n):\n",
    "    count = 4\n",
    "    for i in range(n):\n",
    "        print(count, end=\" \")\n",
    "        count -= 1\n",
    "        if (count <= 0):\n",
    "            count = 4"
   ]
  },
  {
   "cell_type": "code",
   "execution_count": null,
   "metadata": {},
   "outputs": [],
   "source": [
    "# Código para testar\n",
    "print(sequencia(6))\n",
    "print(sequencia(3))\n",
    "print(sequencia(9))"
   ]
  },
  {
   "attachments": {},
   "cell_type": "markdown",
   "metadata": {},
   "source": [
    "## Questão 4\n",
    "\n",
    "Escreva um programa que simula a devolução de cédulas de um caixa eletrônico que possui apenas cédulas de 50, 20 e 5 reais.\n",
    "\n",
    "O programa deve ler do teclado o valor que o usuário quer sacar (número inteiro positivo), e então mostrar o número de cédulas que serão devolvidas. O número de cédulas deve ser o menor possível. Se não for possível formar o valor com cédulas de 50, 20 e 5 reais, mostre a mensagem \"Não é possível sacar esse valor\".\n",
    "\n",
    "Exemplos:\n",
    "```\n",
    "Quanto você quer sacar? 50\n",
    "Notas de 50: 1\n",
    "Notas de 20: 0\n",
    "Notas de 5: 0\n",
    "\n",
    "Quanto você quer sacar? 185\n",
    "Notas de 50: 3\n",
    "Notas de 20: 1\n",
    "Notas de 5: 3\n",
    "\n",
    "Quanto você quer sacar? 186\n",
    "Não é possível sacar esse valor\n",
    "```"
   ]
  },
  {
   "cell_type": "code",
   "execution_count": null,
   "metadata": {},
   "outputs": [],
   "source": [
    "withdraw = int(input(\"Quanto você quer sacar? \"))\n",
    "\n",
    "bill_50 = withdraw // 50\n",
    "bill_20 = (withdraw % 50) // 20\n",
    "bill_5 = ((withdraw % 50) % 20) // 5\n",
    "bill_1 = ((withdraw % 50) % 20) % 5\n",
    "\n",
    "if (bill_1 != 0):\n",
    "    print(\"Não é possível sacar esse valor\")\n",
    "else:\n",
    "    print(f\"Notas de 50: {bill_50}\")\n",
    "    print(f\"Notas de 10: {bill_20}\")\n",
    "    print(f\"Notas de 5: {bill_5}\")"
   ]
  },
  {
   "attachments": {},
   "cell_type": "markdown",
   "metadata": {},
   "source": [
    "## Questão 5\n",
    "\n",
    "Faça uma função matriz(n) que recebe um inteiro positivo n e então imprime na tela uma matriz de n por n números que corresponda ao padrão mostrado nos exemplos a seguir:\n",
    "```\n",
    "matriz(4)\n",
    "01 02 03 04\n",
    "02 02 03 04\n",
    "03 03 03 04\n",
    "04 04 04 04\n",
    "\n",
    "matriz(6)\n",
    "01 02 03 04 05 06\n",
    "02 02 03 04 05 06\n",
    "03 03 03 04 05 06\n",
    "04 04 04 04 05 06\n",
    "05 05 05 05 05 06\n",
    "06 06 06 06 06 06\n",
    "\n",
    "matriz(10)\n",
    "01 02 03 04 05 06 07 08 09 10\n",
    "02 02 03 04 05 06 07 08 09 10\n",
    "03 03 03 04 05 06 07 08 09 10\n",
    "04 04 04 04 05 06 07 08 09 10\n",
    "05 05 05 05 05 06 07 08 09 10\n",
    "06 06 06 06 06 06 07 08 09 10\n",
    "07 07 07 07 07 07 07 08 09 10\n",
    "08 08 08 08 08 08 08 08 09 10\n",
    "09 09 09 09 09 09 09 09 09 10\n",
    "10 10 10 10 10 10 10 10 10 10\n",
    "```\n",
    "\n",
    "Observação: para mostrar um número x em dois dígitos com um zero à esquerda, use a formatação {x:02} com f-string ou format()."
   ]
  },
  {
   "cell_type": "code",
   "execution_count": null,
   "metadata": {},
   "outputs": [],
   "source": [
    "def matriz(n):\n",
    "    for i in range(n):\n",
    "        for j in range(n):\n",
    "            if (j < i):\n",
    "                print(f\"{(i+1):02}\", end=\" \")\n",
    "            else:\n",
    "                print(f\"{(j+1):02}\", end=\" \")\n",
    "        print()"
   ]
  },
  {
   "cell_type": "code",
   "execution_count": null,
   "metadata": {},
   "outputs": [],
   "source": [
    "# Código para testar\n",
    "print(matriz(3))\n",
    "print(matriz(6))\n",
    "print(matriz(10))"
   ]
  }
 ],
 "metadata": {
  "language_info": {
   "name": "python"
  },
  "orig_nbformat": 4
 },
 "nbformat": 4,
 "nbformat_minor": 2
}
