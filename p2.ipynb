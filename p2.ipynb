{
 "cells": [
  {
   "cell_type": "markdown",
   "metadata": {},
   "source": [
    "# Processamento da Informação - Prova 2\n",
    "_Harlen Costa Batagelo - 2023.2_"
   ]
  },
  {
   "cell_type": "markdown",
   "metadata": {},
   "source": [
    "# Questão 1"
   ]
  },
  {
   "cell_type": "code",
   "execution_count": 1,
   "metadata": {},
   "outputs": [
    {
     "name": "stdout",
     "output_type": "stream",
     "text": [
      "[12, 27, 18, 15, 21]\n",
      "[]\n",
      "[12, 18, 27, 27, 42]\n",
      "[]\n"
     ]
    }
   ],
   "source": [
    "def filtrar_lista(v):\n",
    "  result = []\n",
    "  for e in v:\n",
    "    if ((e > 10) and (e % 3 == 0)):\n",
    "      result.append(e)\n",
    "  return result\n",
    "\n",
    "# Testes\n",
    "print(filtrar_lista([8, 12, 5, 27, 18, 9, 15, 21, 4]))\n",
    "print(filtrar_lista([10, 26, 11, 97]))\n",
    "print(filtrar_lista([12, 18, 27, 27, 42]))\n",
    "print(filtrar_lista([6, 3, 9, 3, 6]))"
   ]
  },
  {
   "cell_type": "markdown",
   "metadata": {},
   "source": [
    "# Questão 2"
   ]
  },
  {
   "cell_type": "code",
   "execution_count": 3,
   "metadata": {},
   "outputs": [
    {
     "name": "stdout",
     "output_type": "stream",
     "text": [
      "PI\n",
      "PD\n",
      "CA\n",
      "Ufcme\n",
      "SBC\n",
      "CMCC\n",
      "CNM\n"
     ]
    }
   ],
   "source": [
    "def filtrar_lista(v):\n",
    "  exclude = [\"da\", \"das\", \"do\", \"dos\", \"de\", \"e\", \"\"]\n",
    "  result = []\n",
    "  for item in v:\n",
    "    flag = True\n",
    "    for ex in exclude:\n",
    "      if (item == ex):\n",
    "        flag = False\n",
    "        break\n",
    "    if (flag):\n",
    "      result.append(item)\n",
    "  return result\n",
    "\n",
    "def acronimo(texto):\n",
    "  words = texto.split(\" \")\n",
    "  filtered_words = filtrar_lista(words)\n",
    "  letters = \"\"\n",
    "  for w in filtered_words:\n",
    "    letters += w[0]\n",
    "\n",
    "  return letters\n",
    "\n",
    "# Testes\n",
    "print(acronimo(\"Processamento da Informação\"))\n",
    "print(acronimo(\"Pesquisa e Desenvolvimento\"))\n",
    "print(acronimo(\"Centro Acadêmico\"))\n",
    "print(acronimo(\"Uma frase com muitos espaços\"))\n",
    "print(acronimo(\"Sociedade Brasileira de Computação\"))\n",
    "print(acronimo(\"Centro de Matemática, Computação e Cognição\"))\n",
    "print(acronimo(\"Confederação Nacional dos Municípios\"))"
   ]
  },
  {
   "cell_type": "markdown",
   "metadata": {},
   "source": [
    "# Questão 3"
   ]
  },
  {
   "cell_type": "code",
   "execution_count": 6,
   "metadata": {},
   "outputs": [
    {
     "name": "stdout",
     "output_type": "stream",
     "text": [
      "[4, 3, 2]\n",
      "[0, 0]\n",
      "[5, 0, 5]\n"
     ]
    }
   ],
   "source": [
    "def multiplos(numeros, divisores):\n",
    "  counters = []\n",
    "  for d in divisores:\n",
    "    count = 0\n",
    "    for n in numeros:\n",
    "      if (n % d == 0):\n",
    "        count += 1\n",
    "    counters.append(count)\n",
    "  return counters\n",
    "\n",
    "# Testes\n",
    "print(multiplos([48, 6, 10, 5, 64, 9, 12, 34], [3, 4, 8]))\n",
    "print(multiplos([7, 12, 11, 6, 14, 3], [9, 17]))\n",
    "print(multiplos([3, 3, 3, 3, 3], [1, 2, 3]))"
   ]
  },
  {
   "cell_type": "markdown",
   "metadata": {},
   "source": [
    "# Questão 4"
   ]
  },
  {
   "cell_type": "code",
   "execution_count": 7,
   "metadata": {},
   "outputs": [
    {
     "name": "stdout",
     "output_type": "stream",
     "text": [
      "False\n",
      "True\n",
      "True\n",
      "True\n"
     ]
    }
   ],
   "source": [
    "def busca(v, m):\n",
    "  n = len(v)\n",
    "  result = False\n",
    "  for i in range(n):  # iterating lines\n",
    "    line_check = True\n",
    "    column_check = True\n",
    "    for j in range(n):  # compare\n",
    "      if (m[i][j] != v[j]):\n",
    "        line_check = False\n",
    "      if (m[j][i] != v[j]):\n",
    "        column_check = False\n",
    "    if (line_check or column_check):\n",
    "      result = True\n",
    "  return result\n",
    "\n",
    "# Testes\n",
    "test_v = [1, 2, 3]\n",
    "test_m = [[0, 0, 0],\n",
    "          [1, 1, 1],\n",
    "          [2, 2, 2]]\n",
    "print(busca(test_v, test_m))\n",
    "\n",
    "test_v = [5, 2]\n",
    "test_m = [[5, 3],\n",
    "          [2, 1]]\n",
    "print(busca(test_v, test_m))\n",
    "\n",
    "test_v = [3, 4, 5, 2]\n",
    "test_m = [[0, 0, 1, 0],\n",
    "          [6, 9, 1, 2],\n",
    "          [3, 4, 5, 2],\n",
    "          [1, 1, 8, 4]]\n",
    "print(busca(test_v, test_m))\n",
    "\n",
    "test_v = [0, 0, 0, 4, 0]\n",
    "test_m = [[1, 0, 0, 0, 0],\n",
    "          [0, 2, 0, 0, 0],\n",
    "          [0, 0, 3, 0, 0],\n",
    "          [0, 0, 0, 4, 1],\n",
    "          [0, 0, 0, 0, 5]]\n",
    "print(busca(test_v, test_m))\n"
   ]
  },
  {
   "cell_type": "markdown",
   "metadata": {},
   "source": [
    "# Questão 5"
   ]
  },
  {
   "cell_type": "code",
   "execution_count": 8,
   "metadata": {},
   "outputs": [
    {
     "name": "stdout",
     "output_type": "stream",
     "text": [
      "Navios de comprimento 1: 1\n",
      "Navios de comprimento 2: 1\n",
      "\n",
      "Navios de comprimento 1: 5\n",
      "Navios de comprimento 2: 0\n",
      "\n",
      "Navios de comprimento 1: 2\n",
      "Navios de comprimento 2: 3\n",
      "\n",
      "Navios de comprimento 1: 2\n",
      "Navios de comprimento 2: 4\n"
     ]
    }
   ],
   "source": [
    "def batalha_naval(m):\n",
    "  size = 5 # matriz m de tamanho 5x5\n",
    "  visited = [[False]*size for _ in range(size)]\n",
    "  count_1 = 0\n",
    "  count_2 = 0\n",
    "\n",
    "  for i in range(size):\n",
    "    for j in range(size):\n",
    "      if(not visited[i][j]):\n",
    "        visited[i][j] = True\n",
    "        if (m[i][j] == 1):\n",
    "          if ((i+1) < 5):\n",
    "            if(m[i+1][j] == 1):\n",
    "              count_2 += 1\n",
    "              visited[i+1][j] = True\n",
    "              continue\n",
    "          if ((j+1) < 5):\n",
    "            if(m[i][j+1] == 1):\n",
    "              count_2 += 1\n",
    "              visited[i][j+1] = True\n",
    "              continue\n",
    "          count_1 += 1\n",
    "  print(f\"Navios de comprimento 1: {count_1}\")\n",
    "  print(f\"Navios de comprimento 2: {count_2}\")\n",
    "\n",
    "# Testes\n",
    "mt = [[0, 0, 0, 0, 0],\n",
    "[0, 1, 0, 0, 0],\n",
    "[0, 0, 0, 0, 0],\n",
    "[0, 0, 0, 0, 0],\n",
    "[0, 0, 0, 1, 1]]\n",
    "batalha_naval(mt)\n",
    "print()\n",
    "\n",
    "mt = [[0, 0, 0, 0, 0],\n",
    "[0, 1, 0, 0, 1],\n",
    "[0, 0, 1, 0, 0],\n",
    "[0, 0, 0, 0, 0],\n",
    "[1, 0, 0, 0, 1]]\n",
    "batalha_naval(mt)\n",
    "print()\n",
    "\n",
    "mt = [[0, 0, 0, 0, 1],\n",
    "[0, 1, 1, 0, 0],\n",
    "[0, 0, 0, 0, 1],\n",
    "[0, 0, 0, 0, 1],\n",
    "[1, 1, 0, 1, 0]]\n",
    "batalha_naval(mt)\n",
    "print()\n",
    "\n",
    "mt = [[1, 1, 0, 1, 1],\n",
    "[0, 0, 1, 0, 0],\n",
    "[0, 1, 0, 0, 0],\n",
    "[0, 1, 0, 0, 1],\n",
    "[0, 0, 1, 0, 1]]\n",
    "batalha_naval(mt)"
   ]
  }
 ],
 "metadata": {
  "kernelspec": {
   "display_name": "Python 3",
   "language": "python",
   "name": "python3"
  },
  "language_info": {
   "codemirror_mode": {
    "name": "ipython",
    "version": 3
   },
   "file_extension": ".py",
   "mimetype": "text/x-python",
   "name": "python",
   "nbconvert_exporter": "python",
   "pygments_lexer": "ipython3",
   "version": "3.9.12"
  },
  "orig_nbformat": 4
 },
 "nbformat": 4,
 "nbformat_minor": 2
}
