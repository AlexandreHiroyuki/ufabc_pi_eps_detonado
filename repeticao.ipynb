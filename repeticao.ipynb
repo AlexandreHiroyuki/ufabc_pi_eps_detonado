{
 "cells": [
  {
   "attachments": {},
   "cell_type": "markdown",
   "metadata": {},
   "source": [
    "# Repetição"
   ]
  },
  {
   "attachments": {},
   "cell_type": "markdown",
   "metadata": {},
   "source": [
    "## EP3_1(função) - Valor da função"
   ]
  },
  {
   "cell_type": "code",
   "execution_count": null,
   "metadata": {},
   "outputs": [],
   "source": [
    "def obter_valor_funcao(a, b, c):\n",
    "    sum = a\n",
    "    for d in range(1, b+1):\n",
    "        sum += c * d\n",
    "    return sum"
   ]
  },
  {
   "attachments": {},
   "cell_type": "markdown",
   "metadata": {},
   "source": [
    "## EP3_2 - Estatísticas de números"
   ]
  },
  {
   "cell_type": "code",
   "execution_count": null,
   "metadata": {},
   "outputs": [],
   "source": [
    "n = int(input())\n",
    "\n",
    "sum = n_min = n_max = int(input())\n",
    "for i in range(0, n-1):\n",
    "    x = int(input())\n",
    "    sum += x\n",
    "    n_min = min(n_min, x)\n",
    "    n_max = max(n_max, x)\n",
    "\n",
    "print(sum)\n",
    "print(sum/n)\n",
    "print(n_min)\n",
    "print(n_max)"
   ]
  },
  {
   "attachments": {},
   "cell_type": "markdown",
   "metadata": {},
   "source": [
    "## EP3_3 - Quantidade de conceitos"
   ]
  },
  {
   "cell_type": "code",
   "execution_count": null,
   "metadata": {},
   "outputs": [],
   "source": [
    "n = int(input())\n",
    "CONVERT = [\"A\", \"B\", \"C\", \"D\", \"F\"]\n",
    "grades = [0, 0, 0, 0, 0]\n",
    "sum = 0\n",
    "\n",
    "for i in range(0, n):\n",
    "    x = float(input())\n",
    "    sum += x\n",
    "    if (x >= 9):\n",
    "        grades[0] += 1\n",
    "    elif (x >= 8):\n",
    "        grades[1] += 1\n",
    "    elif (x >= 7):\n",
    "        grades[2] += 1\n",
    "    elif (x >= 5):\n",
    "        grades[3] += 1\n",
    "    else:\n",
    "        grades[4] += 1\n",
    "\n",
    "for i in range(0, 5):\n",
    "    print(f\"{CONVERT[i]}: {grades[i]}\")\n",
    "print(f\"Media: {(sum / n):.2f}\")"
   ]
  },
  {
   "attachments": {},
   "cell_type": "markdown",
   "metadata": {},
   "source": [
    "## EP3_4 - Ler quantidade indefinida de valores"
   ]
  },
  {
   "cell_type": "code",
   "execution_count": null,
   "metadata": {},
   "outputs": [],
   "source": [
    "sum = 0\n",
    "x = 5\n",
    "i = 0\n",
    "\n",
    "while(x != 0):\n",
    "    x = int(input())\n",
    "    if (x == 0):\n",
    "        break\n",
    "    sum += x\n",
    "    i += 1\n",
    "\n",
    "print(f\"{(sum/i):.2f}\")"
   ]
  },
  {
   "attachments": {},
   "cell_type": "markdown",
   "metadata": {},
   "source": [
    "## EP3_5 - Triângulo de números"
   ]
  },
  {
   "cell_type": "code",
   "execution_count": null,
   "metadata": {},
   "outputs": [],
   "source": [
    "n = int(input())\n",
    "\n",
    "for i in range(1, n+1):\n",
    "    for j in range(1, i+1):\n",
    "        print(i, end=\"\")\n",
    "    print(\"\")"
   ]
  },
  {
   "attachments": {},
   "cell_type": "markdown",
   "metadata": {},
   "source": [
    "## EP3_6 - Função com somatório"
   ]
  },
  {
   "cell_type": "code",
   "execution_count": null,
   "metadata": {},
   "outputs": [],
   "source": [
    "value = int(input())\n",
    "\n",
    "\n",
    "def summatory(n):\n",
    "    sum = 0\n",
    "    for i in range(1, n+1):\n",
    "        for j in range(1, 9):\n",
    "            sum += (i + 1) * j\n",
    "    return sum\n",
    "\n",
    "\n",
    "print(summatory(value))"
   ]
  },
  {
   "attachments": {},
   "cell_type": "markdown",
   "metadata": {},
   "source": [
    "## EP3_7 - N primeiros primos"
   ]
  },
  {
   "cell_type": "code",
   "execution_count": null,
   "metadata": {},
   "outputs": [],
   "source": [
    "n = int(input())\n",
    "\n",
    "print(\"2\")\n",
    "i = 1\n",
    "y = 3\n",
    "while (i < n):\n",
    "    x = 3\n",
    "    while (x < y):\n",
    "        if (y % x) == 0:\n",
    "            break\n",
    "        x += 2\n",
    "    if (x == y):\n",
    "        print(x)\n",
    "        i += 1\n",
    "    y += 2"
   ]
  }
 ],
 "metadata": {
  "kernelspec": {
   "display_name": "Python 3",
   "language": "python",
   "name": "python3"
  },
  "language_info": {
   "name": "python",
   "version": "3.9.12"
  },
  "orig_nbformat": 4
 },
 "nbformat": 4,
 "nbformat_minor": 2
}
