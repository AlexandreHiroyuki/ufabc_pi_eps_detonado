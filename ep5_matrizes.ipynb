{
 "cells": [
  {
   "cell_type": "markdown",
   "metadata": {},
   "source": [
    "# Matrizes"
   ]
  },
  {
   "cell_type": "markdown",
   "metadata": {},
   "source": [
    "## EP5_1 - Busca elemento\n",
    "\n",
    "Faça um programa que busque um número específico dentro de uma matriz.\n",
    "O tamanho da matriz será definido pelo usuário, que vai entrar com a quantidade de linhas e depois com a quantidade de colunas. Após isso, o usuário vai inserir cada um dos elementos da matriz e, ao final, vai inserir qual é o número a ser buscado (é garantido que o número buscado aparece no máximo uma vez na matriz). Ao final, o programa deverá imprimir a posição do número buscado, ou seja, o número da linha e o número da coluna em que se encontra (note que o índice [0][0] no programa corresponde à posição da linha=1 e coluna=1). Caso o número não exista na matriz, imprima apenas o número -1.\n",
    "\n",
    "Entradas:\n",
    "- Número de linhas da matriz (inteiro > 0)\n",
    "- Número de colunas da matriz (inteiro > 0)\n",
    "- Elementos que compõem a matriz (inteiros)\n",
    "- Número a ser buscado na matriz (inteiro)\n",
    "\n",
    "Saídas:\n",
    "- Posição do número buscado (ou -1 caso não exista)\n",
    "\n",
    "### Exemplo 1:\n",
    "Entradas:\n",
    "```\n",
    "2\n",
    "3\n",
    "1\n",
    "2\n",
    "3\n",
    "4\n",
    "5\n",
    "6\n",
    "4\n",
    "```\n",
    "Saídas:\n",
    "```\n",
    "2 1\n",
    "```\n",
    "\n",
    "### Exemplo 2:\n",
    "Entradas:\n",
    "```\n",
    "2\n",
    "3\n",
    "1\n",
    "2\n",
    "3\n",
    "4\n",
    "5\n",
    "6\n",
    "8\n",
    "```\n",
    "Saídas:\n",
    "```\n",
    "-1\n",
    "```"
   ]
  },
  {
   "cell_type": "markdown",
   "metadata": {},
   "source": [
    "Exemplo 2:\n",
    "Entradas:\n",
    "```\n",
    "2\n",
    "3\n",
    "1\n",
    "2\n",
    "3\n",
    "4\n",
    "5\n",
    "6\n",
    "8\n",
    "```\n",
    "Saídas:\n",
    "```\n",
    "-1\n",
    "```"
   ]
  },
  {
   "cell_type": "code",
   "execution_count": null,
   "metadata": {},
   "outputs": [],
   "source": [
    "lines = int(input())\n",
    "columns = int(input())\n",
    "\n",
    "matrix = []\n",
    "\n",
    "for i in range(lines):\n",
    "    line = []\n",
    "    for j in range(columns):\n",
    "        line.append(int(input()))\n",
    "    matrix.append(line)\n",
    "\n",
    "target = int(input())\n",
    "\n",
    "x = y = -1\n",
    "for index_i, i in enumerate(matrix):\n",
    "    for index_j, j in enumerate(i):\n",
    "        if (j == target):\n",
    "            x = index_i\n",
    "            y = index_j\n",
    "\n",
    "if (x >= 0 and y >= 0):\n",
    "    print(x + 1, y + 1)\n",
    "else:\n",
    "    print(-1)"
   ]
  }
 ],
 "metadata": {
  "language_info": {
   "name": "python"
  },
  "orig_nbformat": 4
 },
 "nbformat": 4,
 "nbformat_minor": 2
}
